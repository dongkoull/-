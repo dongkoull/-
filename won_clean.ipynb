{
 "cells": [
  {
   "cell_type": "code",
   "execution_count": null,
   "metadata": {},
   "outputs": [],
   "source": [
    "    def won_clean(self,excel):\n",
    "        \"\"\"\n",
    "        won 전처리\n",
    "        \"\"\"\n",
    "        won_ex = self.load_excel(excel)\n",
    "        alist = won_ex.values\n",
    "        dap = []\n",
    "        p = re.compile(\"[\\d]{4}/[\\d]{2}/[\\d]{2}\")\n",
    "        for i in range(len(alist)):\n",
    "            if p.match(alist[i][0])!=None:\n",
    "                c=p.match(alist[i][0])\n",
    "                d =c.string\n",
    "                dap.append((d,alist[i][1]))\n",
    "        return dap\n",
    " \n",
    "    "
   ]
  }
 ],
 "metadata": {
  "kernelspec": {
   "display_name": "Python 3",
   "language": "python",
   "name": "python3"
  },
  "language_info": {
   "codemirror_mode": {
    "name": "ipython",
    "version": 3
   },
   "file_extension": ".py",
   "mimetype": "text/x-python",
   "name": "python",
   "nbconvert_exporter": "python",
   "pygments_lexer": "ipython3",
   "version": "3.6.5"
  }
 },
 "nbformat": 4,
 "nbformat_minor": 2
}
